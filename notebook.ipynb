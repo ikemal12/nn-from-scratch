{
 "cells": [
  {
   "cell_type": "code",
   "execution_count": 10,
   "id": "b515c274",
   "metadata": {},
   "outputs": [],
   "source": [
    "import nn\n",
    "import numpy as np \n",
    "import pandas as pd \n",
    "from matplotlib import pyplot as plt"
   ]
  },
  {
   "cell_type": "code",
   "execution_count": 11,
   "id": "e8efd549",
   "metadata": {},
   "outputs": [],
   "source": [
    "data = pd.read_csv('train.csv')"
   ]
  },
  {
   "cell_type": "code",
   "execution_count": 12,
   "id": "72693d24",
   "metadata": {},
   "outputs": [
    {
     "data": {
      "text/html": [
       "<div>\n",
       "<style scoped>\n",
       "    .dataframe tbody tr th:only-of-type {\n",
       "        vertical-align: middle;\n",
       "    }\n",
       "\n",
       "    .dataframe tbody tr th {\n",
       "        vertical-align: top;\n",
       "    }\n",
       "\n",
       "    .dataframe thead th {\n",
       "        text-align: right;\n",
       "    }\n",
       "</style>\n",
       "<table border=\"1\" class=\"dataframe\">\n",
       "  <thead>\n",
       "    <tr style=\"text-align: right;\">\n",
       "      <th></th>\n",
       "      <th>label</th>\n",
       "      <th>pixel0</th>\n",
       "      <th>pixel1</th>\n",
       "      <th>pixel2</th>\n",
       "      <th>pixel3</th>\n",
       "      <th>pixel4</th>\n",
       "      <th>pixel5</th>\n",
       "      <th>pixel6</th>\n",
       "      <th>pixel7</th>\n",
       "      <th>pixel8</th>\n",
       "      <th>...</th>\n",
       "      <th>pixel774</th>\n",
       "      <th>pixel775</th>\n",
       "      <th>pixel776</th>\n",
       "      <th>pixel777</th>\n",
       "      <th>pixel778</th>\n",
       "      <th>pixel779</th>\n",
       "      <th>pixel780</th>\n",
       "      <th>pixel781</th>\n",
       "      <th>pixel782</th>\n",
       "      <th>pixel783</th>\n",
       "    </tr>\n",
       "  </thead>\n",
       "  <tbody>\n",
       "    <tr>\n",
       "      <th>0</th>\n",
       "      <td>1</td>\n",
       "      <td>0</td>\n",
       "      <td>0</td>\n",
       "      <td>0</td>\n",
       "      <td>0</td>\n",
       "      <td>0</td>\n",
       "      <td>0</td>\n",
       "      <td>0</td>\n",
       "      <td>0</td>\n",
       "      <td>0</td>\n",
       "      <td>...</td>\n",
       "      <td>0</td>\n",
       "      <td>0</td>\n",
       "      <td>0</td>\n",
       "      <td>0</td>\n",
       "      <td>0</td>\n",
       "      <td>0</td>\n",
       "      <td>0</td>\n",
       "      <td>0</td>\n",
       "      <td>0</td>\n",
       "      <td>0</td>\n",
       "    </tr>\n",
       "    <tr>\n",
       "      <th>1</th>\n",
       "      <td>0</td>\n",
       "      <td>0</td>\n",
       "      <td>0</td>\n",
       "      <td>0</td>\n",
       "      <td>0</td>\n",
       "      <td>0</td>\n",
       "      <td>0</td>\n",
       "      <td>0</td>\n",
       "      <td>0</td>\n",
       "      <td>0</td>\n",
       "      <td>...</td>\n",
       "      <td>0</td>\n",
       "      <td>0</td>\n",
       "      <td>0</td>\n",
       "      <td>0</td>\n",
       "      <td>0</td>\n",
       "      <td>0</td>\n",
       "      <td>0</td>\n",
       "      <td>0</td>\n",
       "      <td>0</td>\n",
       "      <td>0</td>\n",
       "    </tr>\n",
       "    <tr>\n",
       "      <th>2</th>\n",
       "      <td>1</td>\n",
       "      <td>0</td>\n",
       "      <td>0</td>\n",
       "      <td>0</td>\n",
       "      <td>0</td>\n",
       "      <td>0</td>\n",
       "      <td>0</td>\n",
       "      <td>0</td>\n",
       "      <td>0</td>\n",
       "      <td>0</td>\n",
       "      <td>...</td>\n",
       "      <td>0</td>\n",
       "      <td>0</td>\n",
       "      <td>0</td>\n",
       "      <td>0</td>\n",
       "      <td>0</td>\n",
       "      <td>0</td>\n",
       "      <td>0</td>\n",
       "      <td>0</td>\n",
       "      <td>0</td>\n",
       "      <td>0</td>\n",
       "    </tr>\n",
       "    <tr>\n",
       "      <th>3</th>\n",
       "      <td>4</td>\n",
       "      <td>0</td>\n",
       "      <td>0</td>\n",
       "      <td>0</td>\n",
       "      <td>0</td>\n",
       "      <td>0</td>\n",
       "      <td>0</td>\n",
       "      <td>0</td>\n",
       "      <td>0</td>\n",
       "      <td>0</td>\n",
       "      <td>...</td>\n",
       "      <td>0</td>\n",
       "      <td>0</td>\n",
       "      <td>0</td>\n",
       "      <td>0</td>\n",
       "      <td>0</td>\n",
       "      <td>0</td>\n",
       "      <td>0</td>\n",
       "      <td>0</td>\n",
       "      <td>0</td>\n",
       "      <td>0</td>\n",
       "    </tr>\n",
       "    <tr>\n",
       "      <th>4</th>\n",
       "      <td>0</td>\n",
       "      <td>0</td>\n",
       "      <td>0</td>\n",
       "      <td>0</td>\n",
       "      <td>0</td>\n",
       "      <td>0</td>\n",
       "      <td>0</td>\n",
       "      <td>0</td>\n",
       "      <td>0</td>\n",
       "      <td>0</td>\n",
       "      <td>...</td>\n",
       "      <td>0</td>\n",
       "      <td>0</td>\n",
       "      <td>0</td>\n",
       "      <td>0</td>\n",
       "      <td>0</td>\n",
       "      <td>0</td>\n",
       "      <td>0</td>\n",
       "      <td>0</td>\n",
       "      <td>0</td>\n",
       "      <td>0</td>\n",
       "    </tr>\n",
       "  </tbody>\n",
       "</table>\n",
       "<p>5 rows × 785 columns</p>\n",
       "</div>"
      ],
      "text/plain": [
       "   label  pixel0  pixel1  pixel2  pixel3  pixel4  pixel5  pixel6  pixel7  \\\n",
       "0      1       0       0       0       0       0       0       0       0   \n",
       "1      0       0       0       0       0       0       0       0       0   \n",
       "2      1       0       0       0       0       0       0       0       0   \n",
       "3      4       0       0       0       0       0       0       0       0   \n",
       "4      0       0       0       0       0       0       0       0       0   \n",
       "\n",
       "   pixel8  ...  pixel774  pixel775  pixel776  pixel777  pixel778  pixel779  \\\n",
       "0       0  ...         0         0         0         0         0         0   \n",
       "1       0  ...         0         0         0         0         0         0   \n",
       "2       0  ...         0         0         0         0         0         0   \n",
       "3       0  ...         0         0         0         0         0         0   \n",
       "4       0  ...         0         0         0         0         0         0   \n",
       "\n",
       "   pixel780  pixel781  pixel782  pixel783  \n",
       "0         0         0         0         0  \n",
       "1         0         0         0         0  \n",
       "2         0         0         0         0  \n",
       "3         0         0         0         0  \n",
       "4         0         0         0         0  \n",
       "\n",
       "[5 rows x 785 columns]"
      ]
     },
     "execution_count": 12,
     "metadata": {},
     "output_type": "execute_result"
    }
   ],
   "source": [
    "data.head()"
   ]
  },
  {
   "cell_type": "code",
   "execution_count": null,
   "id": "b133a210",
   "metadata": {},
   "outputs": [],
   "source": [
    "data = np.array(data)\n",
    "m, n = data.shape\n",
    "np.random.shuffle(data)\n",
    "\n",
    "# validation set\n",
    "data_dev = data[:1000].T \n",
    "Y_dev = data_dev[0] # extract labels\n",
    "X_dev = data_dev[1:n] / 255.0  # normalize\n",
    "\n",
    "# train set\n",
    "data_train = data[1000:m].T\n",
    "Y_train = data_train[0]\n",
    "X_train = data_train[1:n] / 255.0 "
   ]
  },
  {
   "cell_type": "code",
   "execution_count": 14,
   "id": "a5a33ea5",
   "metadata": {},
   "outputs": [
    {
     "data": {
      "text/plain": [
       "(784,)"
      ]
     },
     "execution_count": 14,
     "metadata": {},
     "output_type": "execute_result"
    }
   ],
   "source": [
    "X_train[:, 0].shape"
   ]
  },
  {
   "cell_type": "code",
   "execution_count": 39,
   "id": "8366afa3",
   "metadata": {},
   "outputs": [
    {
     "name": "stdout",
     "output_type": "stream",
     "text": [
      "Iteration:  0\n",
      "[4 8 6 ... 8 8 6] [0 0 9 ... 2 2 6]\n",
      "Accuracy:  0.15241463414634146\n",
      "Iteration:  10\n",
      "[0 0 2 ... 3 2 0] [0 0 9 ... 2 2 6]\n",
      "Accuracy:  0.4746341463414634\n",
      "Iteration:  20\n",
      "[0 0 9 ... 2 2 6] [0 0 9 ... 2 2 6]\n",
      "Accuracy:  0.6148292682926829\n",
      "Iteration:  30\n",
      "[0 0 4 ... 2 2 6] [0 0 9 ... 2 2 6]\n",
      "Accuracy:  0.6269756097560976\n",
      "Iteration:  40\n",
      "[0 0 9 ... 2 2 6] [0 0 9 ... 2 2 6]\n",
      "Accuracy:  0.719609756097561\n",
      "Iteration:  50\n",
      "[0 0 9 ... 2 2 6] [0 0 9 ... 2 2 6]\n",
      "Accuracy:  0.762390243902439\n",
      "Iteration:  60\n",
      "[0 0 9 ... 2 2 6] [0 0 9 ... 2 2 6]\n",
      "Accuracy:  0.791\n",
      "Iteration:  70\n",
      "[0 0 9 ... 2 2 6] [0 0 9 ... 2 2 6]\n",
      "Accuracy:  0.8015853658536586\n",
      "Iteration:  80\n",
      "[0 0 9 ... 2 2 6] [0 0 9 ... 2 2 6]\n",
      "Accuracy:  0.8113170731707318\n",
      "Iteration:  90\n",
      "[0 0 9 ... 2 2 6] [0 0 9 ... 2 2 6]\n",
      "Accuracy:  0.8439512195121951\n"
     ]
    }
   ],
   "source": [
    "W1, b1, W2, b2 = nn.gradient_descent(X_train, Y_train, 100, 0.8)"
   ]
  },
  {
   "cell_type": "code",
   "execution_count": 42,
   "id": "62a8ac4c",
   "metadata": {},
   "outputs": [],
   "source": [
    "def make_predictions(X, W1, b1, W2, b2):\n",
    "    _, _, _, A2 = nn.forward_prop(W1, b1, W2, b2, X)\n",
    "    predictions = nn.get_predictions(A2)\n",
    "    return predictions\n",
    "\n",
    "def test_prediction(index, W1, b1, W2, b2):\n",
    "    current_image = X_train[:, index].reshape(-1, 1)  \n",
    "    prediction = make_predictions(current_image, W1, b1, W2, b2)\n",
    "    label = Y_train[index]\n",
    "    print(\"Prediction: \", prediction)\n",
    "    print(\"Label: \", label)\n",
    "\n",
    "    current_image_display = current_image.reshape((28, 28)) * 255\n",
    "    plt.gray()\n",
    "    plt.imshow(current_image_display, interpolation='nearest')\n",
    "    plt.show()"
   ]
  },
  {
   "cell_type": "code",
   "execution_count": 43,
   "id": "1738da9b",
   "metadata": {},
   "outputs": [
    {
     "name": "stdout",
     "output_type": "stream",
     "text": [
      "Prediction:  [8]\n",
      "Label:  8\n"
     ]
    },
    {
     "data": {
      "image/png": "[encoded data removed]",
      "text/plain": [
       "<Figure size 640x480 with 1 Axes>"
      ]
     },
     "metadata": {},
     "output_type": "display_data"
    }
   ],
   "source": [
    "test_prediction(10, W1, b1, W2, b2)"
   ]
  },
  {
   "cell_type": "code",
   "execution_count": 44,
   "id": "441fa2c3",
   "metadata": {},
   "outputs": [
    {
     "name": "stdout",
     "output_type": "stream",
     "text": [
      "Prediction:  [5]\n",
      "Label:  8\n"
     ]
    },
    {
     "data": {
      "image/png": "[encoded data removed]",
      "text/plain": [
       "<Figure size 640x480 with 1 Axes>"
      ]
     },
     "metadata": {},
     "output_type": "display_data"
    }
   ],
   "source": [
    "test_prediction(100, W1, b1, W2, b2)"
   ]
  },
  {
   "cell_type": "code",
   "execution_count": 45,
   "id": "58814747",
   "metadata": {},
   "outputs": [
    {
     "name": "stdout",
     "output_type": "stream",
     "text": [
      "Prediction:  [0]\n",
      "Label:  0\n"
     ]
    },
    {
     "data": {
      "image/png": "[encoded data removed]",
      "text/plain": [
       "<Figure size 640x480 with 1 Axes>"
      ]
     },
     "metadata": {},
     "output_type": "display_data"
    }
   ],
   "source": [
    "test_prediction(1, W1, b1, W2, b2)"
   ]
  },
  {
   "cell_type": "code",
   "execution_count": 46,
   "id": "6bab5b93",
   "metadata": {},
   "outputs": [
    {
     "name": "stdout",
     "output_type": "stream",
     "text": [
      "Prediction:  [2]\n",
      "Label:  8\n"
     ]
    },
    {
     "data": {
      "image/png": "[encoded data removed]",
      "text/plain": [
       "<Figure size 640x480 with 1 Axes>"
      ]
     },
     "metadata": {},
     "output_type": "display_data"
    }
   ],
   "source": [
    "test_prediction(12, W1, b1, W2, b2)"
   ]
  },
  {
   "cell_type": "code",
   "execution_count": 49,
   "id": "01f2cd55",
   "metadata": {},
   "outputs": [
    {
     "name": "stdout",
     "output_type": "stream",
     "text": [
      "Prediction:  [9]\n",
      "Label:  9\n"
     ]
    },
    {
     "data": {
      "image/png": "[encoded data removed]",
      "text/plain": [
       "<Figure size 640x480 with 1 Axes>"
      ]
     },
     "metadata": {},
     "output_type": "display_data"
    }
   ],
   "source": [
    "test_prediction(10000, W1, b1, W2, b2)"
   ]
  },
  {
   "cell_type": "code",
   "execution_count": 50,
   "id": "fba44a5a",
   "metadata": {},
   "outputs": [
    {
     "name": "stdout",
     "output_type": "stream",
     "text": [
      "Prediction:  [2]\n",
      "Label:  2\n"
     ]
    },
    {
     "data": {
      "image/png": "[encoded data removed]",
      "text/plain": [
       "<Figure size 640x480 with 1 Axes>"
      ]
     },
     "metadata": {},
     "output_type": "display_data"
    }
   ],
   "source": [
    "test_prediction(15000, W1, b1, W2, b2)"
   ]
  },
  {
   "cell_type": "code",
   "execution_count": 51,
   "id": "ab7982b7",
   "metadata": {},
   "outputs": [
    {
     "name": "stdout",
     "output_type": "stream",
     "text": [
      "Prediction:  [3]\n",
      "Label:  3\n"
     ]
    },
    {
     "data": {
      "image/png": "[encoded data removed]",
      "text/plain": [
       "<Figure size 640x480 with 1 Axes>"
      ]
     },
     "metadata": {},
     "output_type": "display_data"
    }
   ],
   "source": [
    "test_prediction(20000, W1, b1, W2, b2)"
   ]
  },
  {
   "cell_type": "code",
   "execution_count": 53,
   "id": "c427cf56",
   "metadata": {},
   "outputs": [
    {
     "name": "stdout",
     "output_type": "stream",
     "text": [
      "[7 4 1 0 6 2 0 2 1 0 2 8 8 6 6 1 2 8 1 9 6 0 5 3 0 1 4 6 0 7 1 6 0 9 3 7 4\n",
      " 8 9 7 1 3 0 9 0 0 1 2 3 1 8 8 5 6 9 1 4 7 6 2 4 9 3 9 2 3 9 7 2 0 3 4 1 9\n",
      " 2 3 3 1 5 3 5 4 9 6 2 6 1 8 9 4 4 4 6 0 4 6 0 2 2 1 7 3 0 1 6 6 9 6 6 8 5\n",
      " 6 9 4 1 9 2 1 1 7 4 2 9 6 3 5 1 8 3 2 4 0 0 4 3 2 4 2 0 9 7 4 8 7 2 3 5 8\n",
      " 6 3 7 7 9 6 4 0 0 8 0 9 7 0 3 9 3 2 0 0 3 3 9 3 4 9 9 0 0 6 5 3 2 9 7 6 2\n",
      " 2 8 7 7 7 2 9 0 8 8 2 4 8 3 1 6 1 0 9 7 8 2 3 9 9 7 0 6 3 7 6 5 9 9 8 4 6\n",
      " 5 4 3 9 6 5 0 6 6 2 7 7 2 0 3 6 0 5 6 2 8 0 9 3 2 1 7 9 3 4 1 3 4 2 8 9 6\n",
      " 9 8 9 7 0 0 0 8 7 9 4 3 2 9 3 9 8 3 1 0 5 4 0 7 0 5 6 9 1 2 6 2 4 2 5 2 9\n",
      " 4 2 3 4 3 9 3 0 3 3 6 2 6 4 6 9 0 4 3 4 1 2 0 0 4 3 5 5 5 6 5 9 6 9 4 8 1\n",
      " 3 4 3 9 9 1 3 1 9 7 8 5 7 2 6 6 9 0 0 5 2 4 7 0 7 3 2 2 3 8 3 4 7 1 9 0 9\n",
      " 8 7 3 9 9 3 0 9 3 7 3 6 7 0 9 8 4 5 3 0 6 7 3 7 8 9 1 3 6 4 0 2 3 7 9 3 8\n",
      " 4 9 2 1 9 6 7 8 6 6 3 0 4 8 4 3 7 6 6 6 1 5 2 7 2 4 4 3 7 0 7 1 8 6 0 7 8\n",
      " 1 9 3 9 1 0 5 8 6 1 3 3 1 7 0 2 4 1 2 4 9 8 6 6 0 6 0 0 5 6 2 3 8 1 3 6 6\n",
      " 8 0 3 8 3 1 1 9 6 2 5 3 8 0 5 3 1 4 7 5 3 3 2 4 0 9 6 4 9 9 3 6 7 7 5 6 8\n",
      " 4 6 4 8 6 9 4 7 8 0 6 1 5 7 1 7 7 5 3 9 8 3 7 0 2 4 5 6 9 3 2 8 0 3 6 7 9\n",
      " 8 2 8 2 7 8 9 3 2 1 8 4 3 3 3 2 1 3 7 9 8 6 7 4 0 1 4 1 1 0 7 3 0 3 3 1 6\n",
      " 0 0 4 0 3 1 6 8 1 8 4 8 9 4 7 3 3 2 0 3 4 8 3 8 8 0 8 9 2 1 3 3 0 0 4 3 4\n",
      " 7 9 6 0 4 6 1 5 8 2 9 3 8 8 3 9 0 8 1 4 3 0 3 9 9 9 7 9 4 1 8 1 4 2 3 6 5\n",
      " 8 9 9 6 4 3 7 3 9 0 3 8 9 8 9 3 1 1 1 1 2 3 9 6 1 6 0 1 8 8 4 1 0 9 2 0 8\n",
      " 8 5 8 1 0 1 6 1 3 0 0 2 8 8 6 4 4 9 1 6 9 9 6 9 8 9 0 9 1 1 8 3 1 3 7 2 8\n",
      " 6 1 9 3 9 8 6 9 6 0 1 8 3 6 9 1 4 7 9 3 5 4 0 2 3 3 2 6 3 3 7 5 0 1 0 3 9\n",
      " 3 1 2 0 6 7 5 3 1 7 9 2 2 1 3 9 2 0 3 3 4 7 1 0 8 8 3 9 4 3 5 9 4 6 8 2 0\n",
      " 0 7 6 7 6 1 7 9 0 2 0 6 0 2 0 3 0 3 1 8 9 5 2 0 4 9 8 9 7 1 3 0 7 9 3 4 3\n",
      " 5 6 7 7 2 1 0 6 3 3 4 8 2 3 2 1 6 1 4 8 3 8 3 3 2 1 3 1 3 5 9 5 0 2 1 0 1\n",
      " 0 0 7 9 6 9 6 2 2 8 9 9 0 1 1 7 6 4 3 7 3 3 6 5 4 9 0 3 2 9 3 2 2 7 5 1 1\n",
      " 9 9 6 9 9 3 1 3 6 0 1 8 4 0 1 3 1 0 8 6 7 1 7 6 3 0 7 7 8 4 9 1 6 2 8 6 4\n",
      " 1 9 7 6 1 0 6 7 3 0 8 3 8 0 9 3 0 0 2 9 9 0 4 7 9 1 2 7 3 2 3 1 4 1 4 6 3\n",
      " 5] [7 4 1 8 6 8 9 3 1 0 2 8 8 6 6 1 2 8 1 9 6 0 5 3 0 1 4 6 0 9 1 0 0 7 8 3 4\n",
      " 5 4 7 1 3 0 8 0 0 1 2 8 1 8 8 5 6 7 1 4 7 6 2 4 7 3 4 0 5 9 7 2 8 3 4 1 8\n",
      " 2 3 3 1 3 3 5 4 9 6 2 6 1 8 4 4 4 4 2 0 4 6 0 2 2 1 7 3 0 1 6 6 8 6 6 5 5\n",
      " 6 9 4 1 4 2 1 1 7 4 2 9 6 3 5 8 8 3 2 4 0 5 4 3 2 4 2 0 9 7 2 8 7 6 3 5 8\n",
      " 6 3 7 7 9 6 4 0 0 8 5 4 7 0 3 9 5 8 2 0 3 9 9 3 9 9 9 0 0 6 5 3 2 9 7 6 2\n",
      " 2 8 7 7 7 1 4 0 5 8 7 4 8 3 1 6 1 0 9 7 8 2 3 5 9 7 0 6 3 7 6 5 9 4 3 4 6\n",
      " 5 4 3 1 6 5 0 6 2 8 7 7 2 5 5 6 0 5 6 2 8 0 9 3 2 1 2 9 3 4 1 3 4 2 8 9 6\n",
      " 9 8 7 7 0 0 0 8 7 7 4 3 2 5 3 9 8 3 1 9 5 4 0 7 0 5 6 9 1 8 6 2 4 2 5 2 9\n",
      " 4 2 3 4 3 4 3 0 3 3 6 2 6 4 6 9 0 4 3 4 1 2 0 0 4 3 5 8 5 9 3 9 6 9 4 8 1\n",
      " 1 4 3 9 4 1 3 1 9 7 8 8 7 2 6 6 4 0 0 5 2 4 7 0 7 3 2 2 2 8 3 4 7 1 9 0 5\n",
      " 8 7 3 8 9 8 6 4 3 7 3 6 7 0 5 8 4 5 3 0 2 7 3 7 8 9 1 3 6 4 0 6 8 7 7 8 8\n",
      " 4 7 3 1 9 6 2 8 6 6 3 0 4 8 4 8 7 6 6 6 8 9 2 9 2 4 4 3 7 0 7 1 8 6 0 7 8\n",
      " 1 5 3 9 1 0 5 8 2 1 5 3 1 7 0 2 4 1 2 4 9 8 6 6 0 6 0 0 5 6 8 3 8 1 3 6 6\n",
      " 8 0 8 8 3 1 1 9 6 2 5 3 8 0 5 3 1 9 7 5 3 5 2 4 0 9 6 4 9 9 3 6 7 7 5 6 8\n",
      " 4 6 4 8 6 4 5 7 8 0 6 1 5 7 1 7 7 5 3 9 8 1 7 0 2 4 5 6 9 8 2 8 0 3 6 7 4\n",
      " 8 6 8 2 7 8 9 2 2 1 5 4 3 3 5 2 1 3 7 9 8 6 7 4 5 1 4 1 1 0 7 3 0 3 7 8 6\n",
      " 5 9 4 0 3 7 6 8 1 8 4 8 9 4 7 3 3 2 0 3 4 8 3 8 8 0 8 9 2 1 3 3 0 0 4 5 0\n",
      " 7 3 6 5 4 6 1 0 9 2 9 3 8 8 5 9 0 8 1 4 8 0 3 9 9 4 7 5 4 1 8 1 4 2 5 6 5\n",
      " 8 9 9 6 4 3 9 9 3 0 5 8 9 8 4 3 1 1 1 1 2 8 9 6 1 6 0 1 4 8 4 1 7 9 2 3 8\n",
      " 8 5 8 1 0 1 6 1 3 0 0 2 8 8 6 2 4 9 1 6 9 9 5 9 8 9 0 4 1 1 8 3 1 3 7 2 8\n",
      " 6 1 9 5 9 8 6 9 6 0 1 5 5 6 9 1 4 7 7 3 5 4 0 2 3 5 8 6 3 5 7 5 0 1 0 3 9\n",
      " 3 7 2 0 6 7 5 5 1 7 2 2 5 1 3 9 2 0 3 3 2 9 1 0 8 8 3 9 4 3 5 9 4 6 8 4 0\n",
      " 0 7 6 7 6 1 7 9 0 3 0 6 0 2 0 8 0 2 1 8 7 5 2 0 4 9 8 9 7 1 1 0 7 9 3 4 3\n",
      " 5 6 7 7 2 1 5 6 3 5 4 8 2 3 2 1 5 1 4 9 3 8 5 5 2 1 8 1 8 5 9 5 0 4 1 0 1\n",
      " 3 0 7 9 6 9 6 2 2 9 4 9 0 1 1 7 5 4 3 7 3 5 6 5 4 8 0 3 2 9 3 2 8 7 5 1 1\n",
      " 9 9 6 3 9 3 1 3 6 0 1 8 4 9 1 3 1 0 8 6 7 1 7 2 3 0 7 7 5 4 8 1 6 2 8 6 4\n",
      " 1 9 7 6 1 0 6 7 3 0 8 3 8 0 9 3 0 5 2 9 9 0 4 7 4 1 2 9 3 2 8 1 4 1 4 6 3\n",
      " 5]\n"
     ]
    },
    {
     "data": {
      "text/plain": [
       "np.float64(0.829)"
      ]
     },
     "execution_count": 53,
     "metadata": {},
     "output_type": "execute_result"
    }
   ],
   "source": [
    "dev_predictions = make_predictions(X_dev, W1, b1, W2, b2)\n",
    "nn.get_accuracy(dev_predictions, Y_dev)"
   ]
  }
 ],
 "metadata": {
  "kernelspec": {
   "display_name": "flower-env",
   "language": "python",
   "name": "python3"
  },
  "language_info": {
   "codemirror_mode": {
    "name": "ipython",
    "version": 3
   },
   "file_extension": ".py",
   "mimetype": "text/x-python",
   "name": "python",
   "nbconvert_exporter": "python",
   "pygments_lexer": "ipython3",
   "version": "3.11.13"
  }
 },
 "nbformat": 4,
 "nbformat_minor": 5
}
